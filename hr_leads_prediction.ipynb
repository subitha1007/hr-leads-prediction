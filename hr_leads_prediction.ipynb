{
  "nbformat": 4,
  "nbformat_minor": 0,
  "metadata": {
    "colab": {
      "provenance": []
    },
    "kernelspec": {
      "name": "python3",
      "display_name": "Python 3"
    },
    "language_info": {
      "name": "python"
    }
  },
  "cells": [
    {
      "cell_type": "code",
      "execution_count": null,
      "metadata": {
        "id": "b5Fybynm8TYL"
      },
      "outputs": [],
      "source": []
    },
    {
      "cell_type": "code",
      "source": [
        "import pandas as pd\n",
        "import numpy as np\n",
        "from sklearn.model_selection import train_test_split\n",
        "from sklearn.ensemble import RandomForestClassifier\n",
        "from sklearn.preprocessing import LabelEncoder\n",
        "from sklearn.metrics import f1_score\n",
        "\n",
        "# Load cleaned dataset\n",
        "df = pd.read_csv(\"/content/cleaned_data.csv\")\n",
        "\n",
        "# Convert last_funding_date to datetime\n",
        "df['last_funding_date'] = pd.to_datetime(df['last_funding_date'])\n",
        "\n",
        "# Encode categorical columns\n",
        "for col in ['industry', 'hiring_roles']:\n",
        "    df[col] = LabelEncoder().fit_transform(df[col])\n",
        "\n",
        "# Define features and target\n",
        "X = df.drop(columns=['company_id', 'company_name', 'last_funding_date', 'is_hot_lead'])\n",
        "y = df['is_hot_lead']\n",
        "\n",
        "# Fix infinite values and missing values\n",
        "X = X.replace([np.inf, -np.inf], np.nan)  # Convert inf to NaN\n",
        "X = X.fillna(X.median())  # Fill NaNs with median values\n",
        "\n",
        "# Split dataset into training & testing sets\n",
        "X_train, X_test, y_train, y_test = train_test_split(X, y, test_size=0.2, random_state=42)\n",
        "\n",
        "# Train a RandomForest model\n",
        "model = RandomForestClassifier(n_estimators=100, random_state=42)\n",
        "model.fit(X_train, y_train)\n",
        "\n",
        "# Make predictions & evaluate\n",
        "y_pred = model.predict(X_test)\n",
        "f1 = f1_score(y_test, y_pred)\n",
        "print(f\"F1-Score: {f1:.4f}\")\n",
        "\n",
        "# Save submission file\n",
        "submission = pd.DataFrame({'company_id': df.iloc[X_test.index]['company_id'], 'is_hot_lead': y_pred})\n",
        "submission.to_csv(\"submission.csv\", index=False)\n",
        "print(\"Submission file saved as 'submission.csv'\")\n"
      ],
      "metadata": {
        "colab": {
          "base_uri": "https://localhost:8080/"
        },
        "id": "YJNqs1k9VXJQ",
        "outputId": "629aed70-b768-4244-e3f8-d59855ab0243"
      },
      "execution_count": 1,
      "outputs": [
        {
          "output_type": "stream",
          "name": "stderr",
          "text": [
            "<ipython-input-1-752994be986d>:12: UserWarning: Parsing dates in %d-%m-%Y format when dayfirst=False (the default) was specified. Pass `dayfirst=True` or specify a format to silence this warning.\n",
            "  df['last_funding_date'] = pd.to_datetime(df['last_funding_date'])\n"
          ]
        },
        {
          "output_type": "stream",
          "name": "stdout",
          "text": [
            "F1-Score: 0.8509\n",
            "Submission file saved as 'submission.csv'\n"
          ]
        }
      ]
    }
  ]
}